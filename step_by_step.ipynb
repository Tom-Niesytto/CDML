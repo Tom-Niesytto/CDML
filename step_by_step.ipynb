{
 "cells": [
  {
   "cell_type": "markdown",
   "metadata": {},
   "source": [
    "# Enviroment 00"
   ]
  },
  {
   "cell_type": "markdown",
   "metadata": {},
   "source": [
    "Install [miniconda](https://docs.conda.io/en/latest/miniconda.html):\n",
    "\n",
    "```\n",
    "wget https://repo.anaconda.com/miniconda/Miniconda3-latest-MacOSX-x86_64.sh -O ~/miniconda.sh\n",
    "bash ~/miniconda.sh -b -p $HOME/miniconda\n",
    "source $HOME/miniconda/bin/activate\n",
    "conda init zsh\n",
    "```\n",
    "\n",
    "Install [Atom](https://atom.io/)\n",
    "\n",
    "And get [Hydrogen](https://github.com/nteract/hydrogen):\n",
    "\n",
    "```\n",
    "Atom > Preferences > Install > {Search: Hydrogen} > Install\n",
    "```\n",
    "\n",
    "![hydrogen](images/hydrogen.png)"
   ]
  },
  {
   "cell_type": "markdown",
   "metadata": {},
   "source": [
    "# Data 00"
   ]
  },
  {
   "cell_type": "markdown",
   "metadata": {},
   "source": [
    "`Iris` and `Boston` are boring. So we're going to look at some energy data I scraped instead!"
   ]
  },
  {
   "cell_type": "markdown",
   "metadata": {},
   "source": [
    "First, some stats [Source](https://www.nrcan.gc.ca/sites/www.nrcan.gc.ca/files/energy/pdf/energy-factbook-oct2-2018%20(1).pdf):\n",
    "\n",
    "![](images/f01-production.png)\n",
    "![](images/f02-trade.png)\n",
    "![](images/f03-overall.png)\n",
    "![](images/f04-commercial.png)\n",
    "![](images/f05-life.png)\n",
    "![](images/f06-breakdown.png)"
   ]
  },
  {
   "cell_type": "markdown",
   "metadata": {},
   "source": [
    "I live in Toronto, the biggest city in Canada. So I wanted to look at energy demand for my city. And I figured, given the facts, that weather would have a big impact on demand..."
   ]
  },
  {
   "cell_type": "markdown",
   "metadata": {},
   "source": [
    "Here's the data I scraped. It's for the last two years and represents total energy demand (in MW) by hour:"
   ]
  },
  {
   "cell_type": "code",
   "execution_count": 1,
   "metadata": {},
   "outputs": [],
   "source": [
    "import pandas as pd\n",
    "\n",
    "df = pd.read_csv('data/weather_power.csv')"
   ]
  },
  {
   "cell_type": "code",
   "execution_count": 2,
   "metadata": {},
   "outputs": [
    {
     "data": {
      "text/html": [
       "<div>\n",
       "<style scoped>\n",
       "    .dataframe tbody tr th:only-of-type {\n",
       "        vertical-align: middle;\n",
       "    }\n",
       "\n",
       "    .dataframe tbody tr th {\n",
       "        vertical-align: top;\n",
       "    }\n",
       "\n",
       "    .dataframe thead th {\n",
       "        text-align: right;\n",
       "    }\n",
       "</style>\n",
       "<table border=\"1\" class=\"dataframe\">\n",
       "  <thead>\n",
       "    <tr style=\"text-align: right;\">\n",
       "      <th></th>\n",
       "      <th>date</th>\n",
       "      <th>temperature</th>\n",
       "      <th>energy_demand</th>\n",
       "    </tr>\n",
       "  </thead>\n",
       "  <tbody>\n",
       "    <tr>\n",
       "      <th>0</th>\n",
       "      <td>2018-01-01 00:00:00</td>\n",
       "      <td>-16.9</td>\n",
       "      <td>5340</td>\n",
       "    </tr>\n",
       "    <tr>\n",
       "      <th>1</th>\n",
       "      <td>2018-01-01 01:00:00</td>\n",
       "      <td>-16.3</td>\n",
       "      <td>5211</td>\n",
       "    </tr>\n",
       "    <tr>\n",
       "      <th>2</th>\n",
       "      <td>2018-01-01 02:00:00</td>\n",
       "      <td>-17.6</td>\n",
       "      <td>5096</td>\n",
       "    </tr>\n",
       "    <tr>\n",
       "      <th>3</th>\n",
       "      <td>2018-01-01 03:00:00</td>\n",
       "      <td>-18.6</td>\n",
       "      <td>4987</td>\n",
       "    </tr>\n",
       "    <tr>\n",
       "      <th>4</th>\n",
       "      <td>2018-01-01 04:00:00</td>\n",
       "      <td>-17.8</td>\n",
       "      <td>4926</td>\n",
       "    </tr>\n",
       "  </tbody>\n",
       "</table>\n",
       "</div>"
      ],
      "text/plain": [
       "                  date  temperature  energy_demand\n",
       "0  2018-01-01 00:00:00        -16.9           5340\n",
       "1  2018-01-01 01:00:00        -16.3           5211\n",
       "2  2018-01-01 02:00:00        -17.6           5096\n",
       "3  2018-01-01 03:00:00        -18.6           4987\n",
       "4  2018-01-01 04:00:00        -17.8           4926"
      ]
     },
     "execution_count": 2,
     "metadata": {},
     "output_type": "execute_result"
    }
   ],
   "source": [
    "df.head()"
   ]
  },
  {
   "cell_type": "markdown",
   "metadata": {},
   "source": [
    "# Model 01"
   ]
  },
  {
   "cell_type": "markdown",
   "metadata": {},
   "source": [
    "Select and split... let's just use temperature for now (dates are a little bit more complicated):"
   ]
  },
  {
   "cell_type": "code",
   "execution_count": 3,
   "metadata": {},
   "outputs": [],
   "source": [
    "from sklearn.model_selection import train_test_split\n",
    "\n",
    "target = 'energy_demand'\n",
    "y = df[target]\n",
    "X = df[['temperature']]\n",
    "\n",
    "X_train, X_test, y_train, y_test = train_test_split(X, y, test_size=0.1, shuffle=False)"
   ]
  },
  {
   "cell_type": "markdown",
   "metadata": {},
   "source": [
    "> Max's Tip: you should try to get to a number as quickly as possible"
   ]
  },
  {
   "cell_type": "markdown",
   "metadata": {},
   "source": [
    "To get to a number ASAP (ie: a score to beat) we'll use [`DummyRegressor`](https://scikit-learn.org/stable/modules/generated/sklearn.dummy.DummyRegressor.html):"
   ]
  },
  {
   "cell_type": "code",
   "execution_count": 4,
   "metadata": {},
   "outputs": [
    {
     "data": {
      "text/plain": [
       "DummyRegressor()"
      ]
     },
     "execution_count": 4,
     "metadata": {},
     "output_type": "execute_result"
    }
   ],
   "source": [
    "from sklearn.dummy import DummyRegressor\n",
    "model = DummyRegressor()\n",
    "model.fit(X_train, y_train)"
   ]
  },
  {
   "cell_type": "markdown",
   "metadata": {},
   "source": [
    "`DummyRegressor` will literally just predict the average for everything... doesn't matter what you put in:"
   ]
  },
  {
   "cell_type": "code",
   "execution_count": 5,
   "metadata": {},
   "outputs": [
    {
     "data": {
      "text/plain": [
       "array([5692.04161844, 5692.04161844, 5692.04161844, ..., 5692.04161844,\n",
       "       5692.04161844, 5692.04161844])"
      ]
     },
     "execution_count": 5,
     "metadata": {},
     "output_type": "execute_result"
    }
   ],
   "source": [
    "model.predict(X_test)"
   ]
  },
  {
   "cell_type": "markdown",
   "metadata": {},
   "source": [
    "You can confirm this by running:"
   ]
  },
  {
   "cell_type": "code",
   "execution_count": 6,
   "metadata": {},
   "outputs": [
    {
     "data": {
      "text/plain": [
       "5692.041618441358"
      ]
     },
     "execution_count": 6,
     "metadata": {},
     "output_type": "execute_result"
    }
   ],
   "source": [
    "y_train.mean()"
   ]
  },
  {
   "cell_type": "markdown",
   "metadata": {},
   "source": [
    "But now we have a model that we can score so that we know what to beat:"
   ]
  },
  {
   "cell_type": "code",
   "execution_count": 7,
   "metadata": {},
   "outputs": [
    {
     "data": {
      "text/plain": [
       "1451.0"
      ]
     },
     "execution_count": 7,
     "metadata": {},
     "output_type": "execute_result"
    }
   ],
   "source": [
    "from sklearn.metrics import mean_squared_error\n",
    "\n",
    "round(mean_squared_error(y_test, model.predict(X_test)) ** (1/2))"
   ]
  },
  {
   "cell_type": "markdown",
   "metadata": {},
   "source": [
    "Given that Toronto on an average day uses ~5700 MW of electricity having our model be off by ~1400 MW isn't super great! But it's a start! We're going work on continously improving this number."
   ]
  },
  {
   "cell_type": "markdown",
   "metadata": {},
   "source": [
    "To run a prediction for a single row, or new entry, I like to send a row to a dictionary to get a sense of structure:"
   ]
  },
  {
   "cell_type": "code",
   "execution_count": 8,
   "metadata": {},
   "outputs": [
    {
     "data": {
      "text/plain": [
       "{'temperature': [19.7]}"
      ]
     },
     "execution_count": 8,
     "metadata": {},
     "output_type": "execute_result"
    }
   ],
   "source": [
    "X.sample(1).to_dict(orient='list')"
   ]
  },
  {
   "cell_type": "markdown",
   "metadata": {},
   "source": [
    "And then embed the output in a new pandas.DataFrame:"
   ]
  },
  {
   "cell_type": "code",
   "execution_count": 9,
   "metadata": {},
   "outputs": [
    {
     "data": {
      "text/plain": [
       "5692.041618441358"
      ]
     },
     "execution_count": 9,
     "metadata": {},
     "output_type": "execute_result"
    }
   ],
   "source": [
    "new = pd.DataFrame({'temperature': [21]})\n",
    "model.predict(new)[0]"
   ]
  },
  {
   "cell_type": "markdown",
   "metadata": {},
   "source": [
    "We're going to stuff new temperatures in our app into a pandas DataFrame exactly like that. But let's save the model so that we can wrap an app around it:"
   ]
  },
  {
   "cell_type": "code",
   "execution_count": 10,
   "metadata": {},
   "outputs": [],
   "source": [
    "import pickle\n",
    "\n",
    "with open('model.pkl', 'wb') as f:\n",
    "    pickle.dump(model, f)"
   ]
  },
  {
   "cell_type": "markdown",
   "metadata": {},
   "source": [
    "Before moving on to building the app, let's make sure it works:"
   ]
  },
  {
   "cell_type": "code",
   "execution_count": 11,
   "metadata": {},
   "outputs": [
    {
     "data": {
      "text/plain": [
       "5692.041618441358"
      ]
     },
     "execution_count": 11,
     "metadata": {},
     "output_type": "execute_result"
    }
   ],
   "source": [
    "with open('model.pkl', 'rb') as f:\n",
    "    model = pickle.load(f)\n",
    "\n",
    "model.predict(new)[0]"
   ]
  },
  {
   "cell_type": "markdown",
   "metadata": {},
   "source": [
    "# App 01"
   ]
  },
  {
   "cell_type": "markdown",
   "metadata": {},
   "source": [
    "Now that we have a \"model\" (granted it's pretty dumb!) it's time to stick it behind an app. \n",
    "\n",
    "To start our app is just going to be a shitty hello world Flask app:"
   ]
  },
  {
   "cell_type": "code",
   "execution_count": 12,
   "metadata": {},
   "outputs": [
    {
     "name": "stdout",
     "output_type": "stream",
     "text": [
      "Overwriting app.py\n"
     ]
    }
   ],
   "source": [
    "%%writefile app.py\n",
    "\n",
    "from flask import Flask\n",
    "\n",
    "app = Flask(__name__)\n",
    "\n",
    "@app.route('/')\n",
    "def index():\n",
    "    return 'Hello World!'\n",
    "\n",
    "if __name__ == '__main__':\n",
    "    app.run(port=5000, debug=True)"
   ]
  },
  {
   "cell_type": "markdown",
   "metadata": {},
   "source": [
    "Preview the app by running it from the command line:\n",
    "\n",
    "```\n",
    "python app.py\n",
    "```\n",
    "\n",
    "And visiting: http://127.0.0.1:5000/ "
   ]
  },
  {
   "cell_type": "markdown",
   "metadata": {},
   "source": [
    "Interrupt the process (ctrl+c) to kill the app and move on..."
   ]
  },
  {
   "cell_type": "markdown",
   "metadata": {},
   "source": [
    "# App 02"
   ]
  },
  {
   "cell_type": "markdown",
   "metadata": {},
   "source": [
    "Now that we have some boilerplate in place, we can extend the hello world example to include the model. While this looks like it might work, we're going to run it anyways..."
   ]
  },
  {
   "cell_type": "code",
   "execution_count": 13,
   "metadata": {},
   "outputs": [
    {
     "name": "stdout",
     "output_type": "stream",
     "text": [
      "Overwriting app.py\n"
     ]
    }
   ],
   "source": [
    "%%writefile app.py\n",
    "\n",
    "import pickle\n",
    "\n",
    "from flask import Flask\n",
    "import pandas as pd\n",
    "\n",
    "app = Flask(__name__)\n",
    "\n",
    "with open('model.pkl', 'rb') as f:\n",
    "    model = pickle.load(f)\n",
    "\n",
    "@app.route('/')\n",
    "def index():\n",
    "    new = pd.DataFrame({'temperature': [20]})\n",
    "    prediction = model.predict(new)\n",
    "    print(prediction)\n",
    "    return prediction\n",
    "\n",
    "if __name__ == '__main__':\n",
    "    app.run(port=5000, debug=True)"
   ]
  },
  {
   "cell_type": "markdown",
   "metadata": {},
   "source": [
    "Again, fire up the app at the command line the app at the command line:\n",
    "\n",
    "```\n",
    "python app.py\n",
    "```"
   ]
  },
  {
   "cell_type": "markdown",
   "metadata": {},
   "source": [
    "This time when you visit http://127.0.0.1:5000/ you'll get a:"
   ]
  },
  {
   "cell_type": "markdown",
   "metadata": {},
   "source": [
    "**TypeError** \n",
    "\n",
    "> TypeError: The view function did not return a valid response. The return type must be a string, dict, tuple, Response instance, or WSGI callable, but it was a ndarray.  "
   ]
  },
  {
   "cell_type": "markdown",
   "metadata": {},
   "source": [
    "Interrupt the process so that we can work on a fix."
   ]
  },
  {
   "cell_type": "markdown",
   "metadata": {},
   "source": [
    "# App 03"
   ]
  },
  {
   "cell_type": "markdown",
   "metadata": {},
   "source": [
    "The TypeError helpful suggested that we could return a dictionary and it would work... let's do that now:"
   ]
  },
  {
   "cell_type": "code",
   "execution_count": 14,
   "metadata": {},
   "outputs": [
    {
     "name": "stdout",
     "output_type": "stream",
     "text": [
      "Overwriting app.py\n"
     ]
    }
   ],
   "source": [
    "%%writefile app.py\n",
    "\n",
    "import pickle\n",
    "from flask import Flask\n",
    "import pandas as pd\n",
    "\n",
    "app = Flask(__name__)\n",
    "\n",
    "with open('model.pkl', 'rb') as f:\n",
    "    model = pickle.load(f)\n",
    "\n",
    "@app.route('/')\n",
    "def index():\n",
    "    new = pd.DataFrame({'temperature': [20]})\n",
    "    prediction = model.predict(new)[0]\n",
    "    # return str(prediction)\n",
    "    return {'prediction': prediction}\n",
    "\n",
    "if __name__ == '__main__':\n",
    "    app.run(port=5000, debug=True)"
   ]
  },
  {
   "cell_type": "markdown",
   "metadata": {},
   "source": [
    "Alternatively, we could `return str(prediction)`. \n",
    "\n",
    "But let's run the app at the command line and preview it once more. This time you should see the dictonary return."
   ]
  },
  {
   "cell_type": "markdown",
   "metadata": {},
   "source": [
    "# App 04"
   ]
  },
  {
   "cell_type": "markdown",
   "metadata": {},
   "source": [
    "You'll notice that while our model is embedded in our app it's just returning the prediction temperature=20 on every single request.\n",
    "\n",
    "To make our app dynamic, we'll use \"query params\"... they look like:\n",
    "\n",
    "`http://website.com/endpoint?query=string`\n",
    "\n",
    "Query params will allow us to accept different inputs and pass them to our model via a pandas DataFrame... In order to capture query params, though, we need to import `flask.request` so that we can peel off dictionary keys from the `request.args` object...\n",
    "\n",
    "As we do this, let's rejig the app to have a separate temperature endpoint:"
   ]
  },
  {
   "cell_type": "code",
   "execution_count": 15,
   "metadata": {},
   "outputs": [
    {
     "name": "stdout",
     "output_type": "stream",
     "text": [
      "Overwriting app.py\n"
     ]
    }
   ],
   "source": [
    "%%writefile app.py\n",
    "\n",
    "import pickle\n",
    "from flask import Flask, request\n",
    "import pandas as pd\n",
    "\n",
    "app = Flask(__name__)\n",
    "\n",
    "with open('model.pkl', 'rb') as f:\n",
    "    model = pickle.load(f)\n",
    "\n",
    "@app.route('/')\n",
    "def index():\n",
    "    return 'Use the /predict endpoint'\n",
    "\n",
    "@app.route('/predict')\n",
    "def predict():\n",
    "    query = request.args\n",
    "    print(query)\n",
    "    new = pd.DataFrame({'temperature': [20]})\n",
    "    prediction = model.predict(new)[0]\n",
    "    return {'prediction': prediction}\n",
    "\n",
    "if __name__ == '__main__':\n",
    "    app.run(port=5000, debug=True)"
   ]
  },
  {
   "cell_type": "markdown",
   "metadata": {},
   "source": [
    "Run the app and watch the command line when you hit it with different query strings like this:\n",
    "    \n",
    "- http://127.0.0.1:5000/predict?hi=there&name=max\n",
    "- http://127.0.0.1:5000/predict?even=more&query=strings\n",
    "- http://127.0.0.1:5000/predict?temperature=25"
   ]
  },
  {
   "cell_type": "markdown",
   "metadata": {},
   "source": [
    "You should see something like `ImmutableMultiDict([('hi', 'there'), ('name', 'max')])` print to the console. Don't worry it's basically just a dictionary..."
   ]
  },
  {
   "cell_type": "markdown",
   "metadata": {},
   "source": [
    "# App 05 "
   ]
  },
  {
   "cell_type": "markdown",
   "metadata": {},
   "source": [
    "To *actually* connect the temperature query string to the model, let's grab it off `request.args` and format it as a float:"
   ]
  },
  {
   "cell_type": "code",
   "execution_count": 16,
   "metadata": {},
   "outputs": [
    {
     "name": "stdout",
     "output_type": "stream",
     "text": [
      "Overwriting app.py\n"
     ]
    }
   ],
   "source": [
    "%%writefile app.py\n",
    "\n",
    "import pickle\n",
    "from flask import Flask, request\n",
    "import pandas as pd\n",
    "\n",
    "app = Flask(__name__)\n",
    "\n",
    "with open('model.pkl', 'rb') as f:\n",
    "    model = pickle.load(f)\n",
    "\n",
    "@app.route('/')\n",
    "def index():\n",
    "    return 'Use the /predict endpoint'\n",
    "\n",
    "@app.route('/predict')\n",
    "def predict():\n",
    "    query = request.args\n",
    "    temperature = float(query.get('temperature'))\n",
    "    print(temperature)\n",
    "    new = pd.DataFrame({'temperature': [temperature]})\n",
    "    prediction = model.predict(new)[0]\n",
    "    return {'prediction': prediction}\n",
    "\n",
    "if __name__ == '__main__':\n",
    "    app.run(port=5000, debug=True)"
   ]
  },
  {
   "cell_type": "markdown",
   "metadata": {},
   "source": [
    "Preview the app at the command line and hit the url with some temperatures:\n",
    "\n",
    "- http://127.0.0.1:5000/predict?temperature=25\n",
    "- http://127.0.0.1:5000/predict?temperature=-10\n",
    "- http://127.0.0.1:5000/predict?temperature=5"
   ]
  },
  {
   "cell_type": "markdown",
   "metadata": {},
   "source": [
    "You'll notice that the print statement in the console is registering the different values, but the model is just returning the same thing.\n",
    "\n",
    "Well, that shouldn't surprise, model is dumb! Let's fix the dummy model we started with right now..."
   ]
  },
  {
   "cell_type": "markdown",
   "metadata": {},
   "source": [
    "# Model 02"
   ]
  },
  {
   "cell_type": "markdown",
   "metadata": {},
   "source": [
    "The `DummyRegressor` helped us quickly build an app, and gave us a number (in the form of RMSE) to beat, let's see if we can beat it with `LinearRegression`:"
   ]
  },
  {
   "cell_type": "code",
   "execution_count": 17,
   "metadata": {},
   "outputs": [],
   "source": [
    "from sklearn.linear_model import LinearRegression"
   ]
  },
  {
   "cell_type": "markdown",
   "metadata": {},
   "source": [
    "```python\n",
    "model = LinearRegression()\n",
    "model.fit(X_train, y_train)\n",
    "```"
   ]
  },
  {
   "cell_type": "markdown",
   "metadata": {},
   "source": [
    "Unfortunately, this breaks:\n",
    "\n",
    "```\n",
    "-----------------------------------------------------------------------\n",
    "ValueError                                Traceback (most recent call last)\n",
    "<ipython-input-17-cae5216284c4> in <module>\n",
    "      2 \n",
    "      3 model = LinearRegression()\n",
    "----> 4 model.fit(X_train, y_train)\n",
    "\n",
    "ValueError: Input contains NaN, infinity or a value too large for dtype('float64').\n",
    "```\n",
    "\n",
    "This is because our data has some NaNs in the temperature column:"
   ]
  },
  {
   "cell_type": "code",
   "execution_count": 18,
   "metadata": {},
   "outputs": [
    {
     "name": "stdout",
     "output_type": "stream",
     "text": [
      "<class 'pandas.core.frame.DataFrame'>\n",
      "RangeIndex: 23040 entries, 0 to 23039\n",
      "Data columns (total 3 columns):\n",
      " #   Column         Non-Null Count  Dtype  \n",
      "---  ------         --------------  -----  \n",
      " 0   date           23040 non-null  object \n",
      " 1   temperature    22873 non-null  float64\n",
      " 2   energy_demand  23040 non-null  int64  \n",
      "dtypes: float64(1), int64(1), object(1)\n",
      "memory usage: 540.1+ KB\n"
     ]
    }
   ],
   "source": [
    "df.info()"
   ]
  },
  {
   "cell_type": "markdown",
   "metadata": {},
   "source": [
    "# Model 03"
   ]
  },
  {
   "cell_type": "markdown",
   "metadata": {},
   "source": [
    "Not to worry, dealing with NaNs is a cinch with `DataFrameMapper` from [sklearn-pandas](https://github.com/scikit-learn-contrib/sklearn-pandas) (basically my secret weapon/super power).\n",
    "\n",
    "DataFrameMapper accepts a list of tuples, where each tuple identifies the column name and then the transformer that operates on it:"
   ]
  },
  {
   "cell_type": "code",
   "execution_count": 19,
   "metadata": {},
   "outputs": [],
   "source": [
    "from sklearn.impute import SimpleImputer\n",
    "from sklearn_pandas import DataFrameMapper\n",
    "\n",
    "mapper = DataFrameMapper([\n",
    "    ('temperature', SimpleImputer())\n",
    "], df_out=True)"
   ]
  },
  {
   "cell_type": "markdown",
   "metadata": {},
   "source": [
    "While it works as a first class scikit-learn transformer (complete with `fit`, `transform`, and `fit_transform`) it comes with all of scikit-learns finickiness:"
   ]
  },
  {
   "cell_type": "markdown",
   "metadata": {},
   "source": [
    "```python\n",
    "mapper.fit_transform(X_train)\n",
    "```"
   ]
  },
  {
   "cell_type": "markdown",
   "metadata": {},
   "source": [
    "Running this right now will hit a **Value Error**:"
   ]
  },
  {
   "cell_type": "markdown",
   "metadata": {},
   "source": [
    "```\n",
    "----------------------------------------------------------------\n",
    "ValueError                                Traceback (most recent call last)\n",
    "<ipython-input-20-8172f748cb52> in <module>\n",
    "----> 1 mapper.fit_transform(X_train)\n",
    "\n",
    "~/opt/miniconda3/lib/python3.8/site-packages/sklearn_pandas/dataframe_mapper.py in fit_transform(self, X, y)\n",
    "    393         y       the target vector relative to X, optional\n",
    "    394         \"\"\"\n",
    "--> 395         return self._transform(X, y, True)\n",
    "\n",
    "\n",
    "ValueError: temperature: Expected 2D array, got 1D array instead:\n",
    "array=[-16.9 -16.3 -17.6 ...   9.1   8.7   8.3].\n",
    "Reshape your data either using array.reshape(-1, 1) if your data has a single feature or array.reshape(1, -1) if it contains a single sample.\n",
    "```"
   ]
  },
  {
   "cell_type": "markdown",
   "metadata": {},
   "source": [
    "This is because of how scikit-learn is designed. Without going into the nitty-gritty, this error has to do with the difference between how scikit-learn handles strings and numbers and columns and series."
   ]
  },
  {
   "cell_type": "markdown",
   "metadata": {},
   "source": [
    "Not to worry, errors like this in DataFrameMapper are easily fixed by wrapping the pesky column in square brackets:"
   ]
  },
  {
   "cell_type": "code",
   "execution_count": 20,
   "metadata": {},
   "outputs": [
    {
     "data": {
      "text/html": [
       "<div>\n",
       "<style scoped>\n",
       "    .dataframe tbody tr th:only-of-type {\n",
       "        vertical-align: middle;\n",
       "    }\n",
       "\n",
       "    .dataframe tbody tr th {\n",
       "        vertical-align: top;\n",
       "    }\n",
       "\n",
       "    .dataframe thead th {\n",
       "        text-align: right;\n",
       "    }\n",
       "</style>\n",
       "<table border=\"1\" class=\"dataframe\">\n",
       "  <thead>\n",
       "    <tr style=\"text-align: right;\">\n",
       "      <th></th>\n",
       "      <th>temperature</th>\n",
       "    </tr>\n",
       "  </thead>\n",
       "  <tbody>\n",
       "    <tr>\n",
       "      <th>0</th>\n",
       "      <td>-16.9</td>\n",
       "    </tr>\n",
       "    <tr>\n",
       "      <th>1</th>\n",
       "      <td>-16.3</td>\n",
       "    </tr>\n",
       "    <tr>\n",
       "      <th>2</th>\n",
       "      <td>-17.6</td>\n",
       "    </tr>\n",
       "    <tr>\n",
       "      <th>3</th>\n",
       "      <td>-18.6</td>\n",
       "    </tr>\n",
       "    <tr>\n",
       "      <th>4</th>\n",
       "      <td>-17.8</td>\n",
       "    </tr>\n",
       "    <tr>\n",
       "      <th>...</th>\n",
       "      <td>...</td>\n",
       "    </tr>\n",
       "    <tr>\n",
       "      <th>20731</th>\n",
       "      <td>10.3</td>\n",
       "    </tr>\n",
       "    <tr>\n",
       "      <th>20732</th>\n",
       "      <td>9.5</td>\n",
       "    </tr>\n",
       "    <tr>\n",
       "      <th>20733</th>\n",
       "      <td>9.1</td>\n",
       "    </tr>\n",
       "    <tr>\n",
       "      <th>20734</th>\n",
       "      <td>8.7</td>\n",
       "    </tr>\n",
       "    <tr>\n",
       "      <th>20735</th>\n",
       "      <td>8.3</td>\n",
       "    </tr>\n",
       "  </tbody>\n",
       "</table>\n",
       "<p>20736 rows × 1 columns</p>\n",
       "</div>"
      ],
      "text/plain": [
       "       temperature\n",
       "0            -16.9\n",
       "1            -16.3\n",
       "2            -17.6\n",
       "3            -18.6\n",
       "4            -17.8\n",
       "...            ...\n",
       "20731         10.3\n",
       "20732          9.5\n",
       "20733          9.1\n",
       "20734          8.7\n",
       "20735          8.3\n",
       "\n",
       "[20736 rows x 1 columns]"
      ]
     },
     "execution_count": 20,
     "metadata": {},
     "output_type": "execute_result"
    }
   ],
   "source": [
    "mapper = DataFrameMapper([\n",
    "    (['temperature'], SimpleImputer())\n",
    "], df_out=True)\n",
    "\n",
    "mapper.fit_transform(X_train)"
   ]
  },
  {
   "cell_type": "markdown",
   "metadata": {},
   "source": [
    "# Model 04"
   ]
  },
  {
   "cell_type": "markdown",
   "metadata": {},
   "source": [
    "Using the DataFrameMapper, we can now transform our `X` objects to intermediate `Z` objects... \n",
    "\n",
    "> Max's Tip: You could just overwrite the `X`s but I like `Z`s becauxe they remind me \"HEY I DID SOMETHING TO THIS!~\""
   ]
  },
  {
   "cell_type": "code",
   "execution_count": 21,
   "metadata": {},
   "outputs": [
    {
     "data": {
      "text/plain": [
       "LinearRegression()"
      ]
     },
     "execution_count": 21,
     "metadata": {},
     "output_type": "execute_result"
    }
   ],
   "source": [
    "Z_train = mapper.fit_transform(X_train)\n",
    "Z_test = mapper.transform(X_test)\n",
    "\n",
    "model = LinearRegression()\n",
    "model.fit(Z_train, y_train)"
   ]
  },
  {
   "cell_type": "markdown",
   "metadata": {},
   "source": [
    "Now let's score the model again:"
   ]
  },
  {
   "cell_type": "code",
   "execution_count": 22,
   "metadata": {},
   "outputs": [
    {
     "data": {
      "text/plain": [
       "1345.0"
      ]
     },
     "execution_count": 22,
     "metadata": {},
     "output_type": "execute_result"
    }
   ],
   "source": [
    "round(mean_squared_error(y_test, model.predict(Z_test)) ** (1/2))"
   ]
  },
  {
   "cell_type": "markdown",
   "metadata": {},
   "source": [
    "And notice that this new model beats the dummy, albeit by not much. "
   ]
  },
  {
   "cell_type": "markdown",
   "metadata": {},
   "source": [
    "Peeking at some examples we can see that it's still pretty constrained around the mean:"
   ]
  },
  {
   "cell_type": "code",
   "execution_count": 23,
   "metadata": {},
   "outputs": [
    {
     "data": {
      "text/html": [
       "<div>\n",
       "<style scoped>\n",
       "    .dataframe tbody tr th:only-of-type {\n",
       "        vertical-align: middle;\n",
       "    }\n",
       "\n",
       "    .dataframe tbody tr th {\n",
       "        vertical-align: top;\n",
       "    }\n",
       "\n",
       "    .dataframe thead th {\n",
       "        text-align: right;\n",
       "    }\n",
       "</style>\n",
       "<table border=\"1\" class=\"dataframe\">\n",
       "  <thead>\n",
       "    <tr style=\"text-align: right;\">\n",
       "      <th></th>\n",
       "      <th>y_true</th>\n",
       "      <th>y_hat</th>\n",
       "    </tr>\n",
       "  </thead>\n",
       "  <tbody>\n",
       "    <tr>\n",
       "      <th>22732</th>\n",
       "      <td>4500</td>\n",
       "      <td>5817.408238</td>\n",
       "    </tr>\n",
       "    <tr>\n",
       "      <th>21376</th>\n",
       "      <td>7892</td>\n",
       "      <td>6018.054543</td>\n",
       "    </tr>\n",
       "    <tr>\n",
       "      <th>22575</th>\n",
       "      <td>8501</td>\n",
       "      <td>5975.269669</td>\n",
       "    </tr>\n",
       "    <tr>\n",
       "      <th>20885</th>\n",
       "      <td>4242</td>\n",
       "      <td>5749.542576</td>\n",
       "    </tr>\n",
       "    <tr>\n",
       "      <th>22641</th>\n",
       "      <td>6693</td>\n",
       "      <td>5932.484795</td>\n",
       "    </tr>\n",
       "    <tr>\n",
       "      <th>21750</th>\n",
       "      <td>4977</td>\n",
       "      <td>5784.950748</td>\n",
       "    </tr>\n",
       "    <tr>\n",
       "      <th>22485</th>\n",
       "      <td>6693</td>\n",
       "      <td>5926.583433</td>\n",
       "    </tr>\n",
       "    <tr>\n",
       "      <th>20925</th>\n",
       "      <td>4896</td>\n",
       "      <td>5784.950748</td>\n",
       "    </tr>\n",
       "    <tr>\n",
       "      <th>21212</th>\n",
       "      <td>5803</td>\n",
       "      <td>5846.915048</td>\n",
       "    </tr>\n",
       "    <tr>\n",
       "      <th>21975</th>\n",
       "      <td>7885</td>\n",
       "      <td>6012.153181</td>\n",
       "    </tr>\n",
       "  </tbody>\n",
       "</table>\n",
       "</div>"
      ],
      "text/plain": [
       "       y_true        y_hat\n",
       "22732    4500  5817.408238\n",
       "21376    7892  6018.054543\n",
       "22575    8501  5975.269669\n",
       "20885    4242  5749.542576\n",
       "22641    6693  5932.484795\n",
       "21750    4977  5784.950748\n",
       "22485    6693  5926.583433\n",
       "20925    4896  5784.950748\n",
       "21212    5803  5846.915048\n",
       "21975    7885  6012.153181"
      ]
     },
     "execution_count": 23,
     "metadata": {},
     "output_type": "execute_result"
    }
   ],
   "source": [
    "pd.DataFrame({\n",
    "    'y_true': y_test,\n",
    "    'y_hat': model.predict(Z_test)\n",
    "}).sample(10)"
   ]
  },
  {
   "cell_type": "markdown",
   "metadata": {},
   "source": [
    "# Model 05"
   ]
  },
  {
   "cell_type": "markdown",
   "metadata": {},
   "source": [
    "While our model still isn't amazing, it is an improvement, and a little more dynamic, so let's  \"serialize\" the mapper and model:"
   ]
  },
  {
   "cell_type": "code",
   "execution_count": 24,
   "metadata": {},
   "outputs": [],
   "source": [
    "with open('mapper.pkl', 'wb') as f:\n",
    "    pickle.dump(mapper, f)\n",
    "    \n",
    "with open('model.pkl', 'wb') as f:\n",
    "    pickle.dump(model, f)"
   ]
  },
  {
   "cell_type": "markdown",
   "metadata": {},
   "source": [
    "But, wait up, this isn't super ideal because in this paradigm we have to keep track of and load two separate things:"
   ]
  },
  {
   "cell_type": "code",
   "execution_count": 25,
   "metadata": {},
   "outputs": [],
   "source": [
    "with open('mapper.pkl', 'rb') as f:\n",
    "    mapper = pickle.load(f)\n",
    "\n",
    "with open('model.pkl', 'rb') as f:\n",
    "    model = pickle.load(f)"
   ]
  },
  {
   "cell_type": "markdown",
   "metadata": {},
   "source": [
    "And in order to predict we need to remember to transform first:"
   ]
  },
  {
   "cell_type": "code",
   "execution_count": 26,
   "metadata": {},
   "outputs": [
    {
     "data": {
      "text/plain": [
       "5879.372538053129"
      ]
     },
     "execution_count": 26,
     "metadata": {},
     "output_type": "execute_result"
    }
   ],
   "source": [
    "new = pd.DataFrame({'temperature': [21]})\n",
    "\n",
    "Z_new = mapper.transform(new)\n",
    "model.predict(Z_new)[0]"
   ]
  },
  {
   "cell_type": "markdown",
   "metadata": {},
   "source": [
    "We can actually make things a little more simple..."
   ]
  },
  {
   "cell_type": "markdown",
   "metadata": {},
   "source": [
    "# Model 06"
   ]
  },
  {
   "cell_type": "markdown",
   "metadata": {},
   "source": [
    "Enter pipelines... a scikit-learn tool that will ensure that we only have to manage one thing!\n",
    "\n",
    "And, as an added bonus, using pipeline will make it so that we can get rid of the intermediate `Z` objects at the same time!"
   ]
  },
  {
   "cell_type": "code",
   "execution_count": 27,
   "metadata": {},
   "outputs": [],
   "source": [
    "from sklearn.pipeline import make_pipeline"
   ]
  },
  {
   "cell_type": "code",
   "execution_count": 28,
   "metadata": {},
   "outputs": [],
   "source": [
    "pipe = make_pipeline(mapper, model)\n",
    "pipe.fit(X_train, y_train);"
   ]
  },
  {
   "cell_type": "markdown",
   "metadata": {},
   "source": [
    "Now we only have to dump one thing:"
   ]
  },
  {
   "cell_type": "code",
   "execution_count": 29,
   "metadata": {},
   "outputs": [],
   "source": [
    "with open('pipe.pkl', 'wb') as f:\n",
    "    pickle.dump(pipe, f)"
   ]
  },
  {
   "cell_type": "markdown",
   "metadata": {},
   "source": [
    "And load one object:"
   ]
  },
  {
   "cell_type": "code",
   "execution_count": 30,
   "metadata": {},
   "outputs": [],
   "source": [
    "with open('pipe.pkl', 'rb') as f:\n",
    "    pipe = pickle.load(f)"
   ]
  },
  {
   "cell_type": "markdown",
   "metadata": {},
   "source": [
    "Predictions don't require transformation now (because it happens inside the pipeline): "
   ]
  },
  {
   "cell_type": "code",
   "execution_count": 31,
   "metadata": {},
   "outputs": [
    {
     "data": {
      "text/plain": [
       "5879.372538053129"
      ]
     },
     "execution_count": 31,
     "metadata": {},
     "output_type": "execute_result"
    }
   ],
   "source": [
    "pipe.predict(new)[0]"
   ]
  },
  {
   "cell_type": "markdown",
   "metadata": {},
   "source": [
    "In order to deploy this new pipeline model let's wrap everything into a single file..."
   ]
  },
  {
   "cell_type": "code",
   "execution_count": 32,
   "metadata": {},
   "outputs": [
    {
     "name": "stdout",
     "output_type": "stream",
     "text": [
      "Overwriting model.py\n"
     ]
    }
   ],
   "source": [
    "%%writefile model.py\n",
    "\n",
    "import pickle\n",
    "import pandas as pd\n",
    "from sklearn_pandas import DataFrameMapper\n",
    "from sklearn.model_selection import train_test_split\n",
    "from sklearn.linear_model import LinearRegression\n",
    "from sklearn.metrics import mean_squared_error\n",
    "from sklearn.impute import SimpleImputer\n",
    "from sklearn.pipeline import make_pipeline\n",
    "\n",
    "df = pd.read_csv('data/weather_power.csv')\n",
    "\n",
    "target = 'energy_demand'\n",
    "y = df[target]\n",
    "X = df[['temperature']]\n",
    "\n",
    "X_train, X_test, y_train, y_test = train_test_split(X, y, test_size=0.1, shuffle=False)\n",
    "\n",
    "mapper = DataFrameMapper([\n",
    "    (['temperature'], SimpleImputer())\n",
    "], df_out=True)\n",
    "\n",
    "model = LinearRegression()\n",
    "\n",
    "pipe = make_pipeline(mapper, model)\n",
    "pipe.fit(X_train, y_train)\n",
    "\n",
    "with open('pipe.pkl', 'wb') as f:\n",
    "    pickle.dump(pipe, f)"
   ]
  },
  {
   "cell_type": "markdown",
   "metadata": {},
   "source": [
    "# Deploy 01 (Heroku)"
   ]
  },
  {
   "cell_type": "markdown",
   "metadata": {},
   "source": [
    "We're going to deploy our model and app on Heroku. In order to do that, follow these simple steps:"
   ]
  },
  {
   "cell_type": "markdown",
   "metadata": {},
   "source": [
    "1. Setup a virtual environment:\n",
    "\n",
    "```\n",
    "python -m venv .venv\n",
    "```\n",
    "\n",
    "2. Activate it:\n",
    "\n",
    "```\n",
    "source .venv/bin/activate\n",
    "```\n",
    "\n",
    "3. Install the app and model dependencies (`gunicorn` something that will sit between heroku and our app...):\n",
    "\n",
    "```\n",
    "pip install gunicorn flask scikit-learn pandas sklearn_pandas\n",
    "```\n",
    "\n",
    "3. Freeze the dependencies:\n",
    "\n",
    "```\n",
    "pip freeze > requirements.txt\n",
    "```\n",
    "\n",
    "4. Retrain the model inside of the virtual environment:\n",
    "\n",
    "```\n",
    "python model.py\n",
    "```\n",
    "\n",
    "5. Make sure the app still works locally:\n",
    "\n",
    "```\n",
    "python app.py\n",
    "```\n",
    "\n",
    "6. Specify a python runtime (3.8 not working yet):\n",
    "\n",
    "```\n",
    "python --version\n",
    "echo \"python-3.7.9\" > runtime.txt\n",
    "```\n",
    "\n",
    "7. Create a `Procfile`:\n",
    "\n",
    "```\n",
    "echo \"web: gunicorn app:app\" > Procfile\n",
    "```\n",
    "\n",
    "8. (Optional) If your project isn't already a git repo, make it one:\n",
    "\n",
    "```\n",
    "git init\n",
    "touch .gitignore\n",
    "echo \".venv\" >> .gitignore\n",
    "```\n",
    "\n",
    "9. Login to Heroku from the [command line](https://devcenter.heroku.com/articles/heroku-cli):\n",
    "\n",
    "```\n",
    "heroku login\n",
    "```\n",
    "\n",
    "10. Create a project:\n",
    "\n",
    "```\n",
    "heroku create\n",
    "```\n",
    "\n",
    "11. Add a remote to the randomly generated project:\n",
    "\n",
    "```\n",
    "heroku git:remote -a silly-words-009900\n",
    "```\n",
    "\n",
    "12. Test the app locally:\n",
    "\n",
    "```\n",
    "heroku local\n",
    "```\n",
    "\n",
    "13. add, commit push:\n",
    "\n",
    "```\n",
    "git add .\n",
    "git commit -m '🚀'\n",
    "git push heroku\n",
    "```\n",
    "\n",
    "14. Hit the url and make sure it works!\n",
    "\n",
    "- http://\\<url\\>/predict?temperature=20\n",
    "\n",
    "15. Make sure nothing is wrong (check the logs!):\n",
    "\n",
    "```\n",
    "heroku logs -t \n",
    "```"
   ]
  },
  {
   "cell_type": "markdown",
   "metadata": {},
   "source": [
    "# App 07"
   ]
  },
  {
   "cell_type": "markdown",
   "metadata": {},
   "source": [
    "Well! We have an app deployed. And it's working... but now it's time to level-up. Starting with the actual app. \n",
    "\n",
    "Flask is old news....\n",
    "\n",
    "FastAPI is the new kid on the block. It's faster, less boilerplate, and the future. And converting from Flask to FastAPI isn't that tough:"
   ]
  },
  {
   "cell_type": "code",
   "execution_count": 33,
   "metadata": {},
   "outputs": [
    {
     "name": "stdout",
     "output_type": "stream",
     "text": [
      "Overwriting app.py\n"
     ]
    }
   ],
   "source": [
    "%%writefile app.py\n",
    "\n",
    "import pickle\n",
    "import pandas as pd\n",
    "\n",
    "import uvicorn\n",
    "from fastapi import FastAPI\n",
    "\n",
    "app = FastAPI()\n",
    "\n",
    "with open('pipe.pkl', 'rb') as f:\n",
    "    pipe = pickle.load(f)\n",
    "\n",
    "@app.get('/')\n",
    "def index():\n",
    "    return 'Use the /predict endpoint with a temperature argument'\n",
    "\n",
    "@app.get('/predict')\n",
    "def predict(temperature: float):\n",
    "    new = pd.DataFrame({'temperature': [temperature]})\n",
    "    prediction = pipe.predict(new)[0]\n",
    "    return {'prediction': prediction}\n",
    "\n",
    "if __name__ == '__main__':\n",
    "    uvicorn.run(app)"
   ]
  },
  {
   "cell_type": "markdown",
   "metadata": {},
   "source": [
    "The main differences, `route`s are now `get`s and we can specify types in the endpoint functions!"
   ]
  },
  {
   "cell_type": "markdown",
   "metadata": {},
   "source": [
    "To run this fastAPI at the command line use:\n",
    "\n",
    "```\n",
    "uvicorn app:app --port 5000 --reload\n",
    "```\n",
    "\n",
    "> Tip: The first app in `app:app` is the file name, and the second app is the name of the app inside the file. These can be whatever!"
   ]
  },
  {
   "cell_type": "markdown",
   "metadata": {},
   "source": [
    "Try it out and make sure it still works:\n",
    "\n",
    "- http://127.0.0.1:5000/predict?temperature=20\n",
    "\n",
    "As a bonus there's also some wicked auto-generate docs at:\n",
    "\n",
    "- http://127.0.0.1:5000/docs\n",
    "\n",
    "Kill the app once you've verified it works to move on..."
   ]
  },
  {
   "cell_type": "markdown",
   "metadata": {},
   "source": [
    "# Deploy 02 (Heroku)"
   ]
  },
  {
   "cell_type": "markdown",
   "metadata": {},
   "source": [
    "To deploy fastAPI to Heroku isn't much more work because we already have an environment setup.\n",
    "\n",
    "0. If you're not in your environment anymore you can re-enter with:\n",
    "\n",
    "```\n",
    "source .venv/bin/activate\n",
    "\n",
    "# don't do it now, but to exit the environment you can call:\n",
    "deactivate\n",
    "```\n",
    "\n",
    "1. Install the new dependencies:\n",
    "\n",
    "```\n",
    "pip install uvicorn fastapi\n",
    "```\n",
    "\n",
    "2. Freeze the dependencies:\n",
    "\n",
    "```\n",
    "pip freeze > requirements.txt\n",
    "```\n",
    "\n",
    "3. Retrain the model inside the virtual environment:\n",
    "\n",
    "```\n",
    "python model.py\n",
    "```\n",
    "\n",
    "4. Make sure the app still works locally:\n",
    "\n",
    "```\n",
    "uvicorn app:app --port=5000\n",
    "```\n",
    "\n",
    "5. Create a new `Procfile`:\n",
    "\n",
    "```\n",
    "echo 'web: uvicorn app:app --host=0.0.0.0 --port=${PORT:-5000}' > Procfile\n",
    "```\n",
    "\n",
    "6. Test the app locally:\n",
    "\n",
    "```\n",
    "heroku local\n",
    "```\n",
    "\n",
    "7. add, commit push:\n",
    "\n",
    "```\n",
    "git add .\n",
    "git commit -m '🚀'\n",
    "git push heroku\n",
    "```\n",
    "\n",
    "8. Click on the url and make sure it works!\n",
    "\n",
    "- http://\\<url\\>/predict?temperature=20"
   ]
  },
  {
   "cell_type": "markdown",
   "metadata": {},
   "source": [
    "# Model 07"
   ]
  },
  {
   "cell_type": "markdown",
   "metadata": {},
   "source": [
    "We upgraded our app, but our model is still stuck in the dark ages..."
   ]
  },
  {
   "cell_type": "code",
   "execution_count": 34,
   "metadata": {},
   "outputs": [
    {
     "data": {
      "image/png": "[encoded data removed]",
      "text/plain": [
       "<Figure size 432x288 with 1 Axes>"
      ]
     },
     "metadata": {
      "needs_background": "light"
     },
     "output_type": "display_data"
    }
   ],
   "source": [
    "from matplotlib import pyplot as plt\n",
    "\n",
    "plt.plot(range(len(y_test)), y_test, label='MW')\n",
    "plt.plot(range(len(y_test)), model.predict(Z_test), label='MW (Predicted)')\n",
    "plt.legend();"
   ]
  },
  {
   "cell_type": "markdown",
   "metadata": {},
   "source": [
    "It barely explains anything!\n",
    "\n",
    "But temperature should be able to explain a lot (as it pertains to energy demand):"
   ]
  },
  {
   "cell_type": "code",
   "execution_count": 35,
   "metadata": {},
   "outputs": [
    {
     "data": {
      "image/png": "[encoded data removed]",
      "text/plain": [
       "<Figure size 432x288 with 1 Axes>"
      ]
     },
     "metadata": {
      "needs_background": "light"
     },
     "output_type": "display_data"
    }
   ],
   "source": [
    "plt.scatter(df['temperature'], df['energy_demand'], alpha=1/20);"
   ]
  },
  {
   "cell_type": "markdown",
   "metadata": {},
   "source": [
    "The problem is, temperature and energy demand isn't linear. When it's cold, we heat our homes, and when it's hot, we cool our homes! Temperature has a parabolic relationship to energy!\n",
    "\n",
    "Whenever we see a \"U\" or a rainbow, we should think `PolynomialFeatures`. Adding Poly to our pipeline is a matter of slightly adjusting the DataFrameMapper:"
   ]
  },
  {
   "cell_type": "code",
   "execution_count": 36,
   "metadata": {},
   "outputs": [
    {
     "data": {
      "text/html": [
       "<div>\n",
       "<style scoped>\n",
       "    .dataframe tbody tr th:only-of-type {\n",
       "        vertical-align: middle;\n",
       "    }\n",
       "\n",
       "    .dataframe tbody tr th {\n",
       "        vertical-align: top;\n",
       "    }\n",
       "\n",
       "    .dataframe thead th {\n",
       "        text-align: right;\n",
       "    }\n",
       "</style>\n",
       "<table border=\"1\" class=\"dataframe\">\n",
       "  <thead>\n",
       "    <tr style=\"text-align: right;\">\n",
       "      <th></th>\n",
       "      <th>temperature_x0</th>\n",
       "      <th>temperature_x0^2</th>\n",
       "    </tr>\n",
       "  </thead>\n",
       "  <tbody>\n",
       "    <tr>\n",
       "      <th>0</th>\n",
       "      <td>-16.9</td>\n",
       "      <td>285.61</td>\n",
       "    </tr>\n",
       "    <tr>\n",
       "      <th>1</th>\n",
       "      <td>-16.3</td>\n",
       "      <td>265.69</td>\n",
       "    </tr>\n",
       "    <tr>\n",
       "      <th>2</th>\n",
       "      <td>-17.6</td>\n",
       "      <td>309.76</td>\n",
       "    </tr>\n",
       "    <tr>\n",
       "      <th>3</th>\n",
       "      <td>-18.6</td>\n",
       "      <td>345.96</td>\n",
       "    </tr>\n",
       "    <tr>\n",
       "      <th>4</th>\n",
       "      <td>-17.8</td>\n",
       "      <td>316.84</td>\n",
       "    </tr>\n",
       "    <tr>\n",
       "      <th>...</th>\n",
       "      <td>...</td>\n",
       "      <td>...</td>\n",
       "    </tr>\n",
       "    <tr>\n",
       "      <th>20731</th>\n",
       "      <td>10.3</td>\n",
       "      <td>106.09</td>\n",
       "    </tr>\n",
       "    <tr>\n",
       "      <th>20732</th>\n",
       "      <td>9.5</td>\n",
       "      <td>90.25</td>\n",
       "    </tr>\n",
       "    <tr>\n",
       "      <th>20733</th>\n",
       "      <td>9.1</td>\n",
       "      <td>82.81</td>\n",
       "    </tr>\n",
       "    <tr>\n",
       "      <th>20734</th>\n",
       "      <td>8.7</td>\n",
       "      <td>75.69</td>\n",
       "    </tr>\n",
       "    <tr>\n",
       "      <th>20735</th>\n",
       "      <td>8.3</td>\n",
       "      <td>68.89</td>\n",
       "    </tr>\n",
       "  </tbody>\n",
       "</table>\n",
       "<p>20736 rows × 2 columns</p>\n",
       "</div>"
      ],
      "text/plain": [
       "       temperature_x0  temperature_x0^2\n",
       "0               -16.9            285.61\n",
       "1               -16.3            265.69\n",
       "2               -17.6            309.76\n",
       "3               -18.6            345.96\n",
       "4               -17.8            316.84\n",
       "...               ...               ...\n",
       "20731            10.3            106.09\n",
       "20732             9.5             90.25\n",
       "20733             9.1             82.81\n",
       "20734             8.7             75.69\n",
       "20735             8.3             68.89\n",
       "\n",
       "[20736 rows x 2 columns]"
      ]
     },
     "execution_count": 36,
     "metadata": {},
     "output_type": "execute_result"
    }
   ],
   "source": [
    "from sklearn.preprocessing import PolynomialFeatures\n",
    "\n",
    "mapper = DataFrameMapper([\n",
    "    (['temperature'], [SimpleImputer(), PolynomialFeatures(degree=2, include_bias=False)])\n",
    "], df_out=True)\n",
    "\n",
    "mapper.fit_transform(X_train)"
   ]
  },
  {
   "cell_type": "markdown",
   "metadata": {},
   "source": [
    "In a full pipeline it looks like this:"
   ]
  },
  {
   "cell_type": "code",
   "execution_count": 37,
   "metadata": {},
   "outputs": [
    {
     "data": {
      "text/plain": [
       "Pipeline(steps=[('dataframemapper',\n",
       "                 DataFrameMapper(df_out=True,\n",
       "                                 features=[(['temperature'],\n",
       "                                            [SimpleImputer(),\n",
       "                                             PolynomialFeatures(include_bias=False)])])),\n",
       "                ('linearregression', LinearRegression())])"
      ]
     },
     "execution_count": 37,
     "metadata": {},
     "output_type": "execute_result"
    }
   ],
   "source": [
    "pipe = make_pipeline(mapper, model)\n",
    "pipe.fit(X_train, y_train)"
   ]
  },
  {
   "cell_type": "markdown",
   "metadata": {},
   "source": [
    "And this time our model scores:"
   ]
  },
  {
   "cell_type": "code",
   "execution_count": 38,
   "metadata": {},
   "outputs": [
    {
     "data": {
      "text/plain": [
       "927.0"
      ]
     },
     "execution_count": 38,
     "metadata": {},
     "output_type": "execute_result"
    }
   ],
   "source": [
    "round(mean_squared_error(y_test, pipe.predict(X_test)) ** (1/2))"
   ]
  },
  {
   "cell_type": "markdown",
   "metadata": {},
   "source": [
    "And explains over half of the variance in energy demand:"
   ]
  },
  {
   "cell_type": "code",
   "execution_count": 39,
   "metadata": {},
   "outputs": [
    {
     "data": {
      "text/plain": [
       "0.5550072850130577"
      ]
     },
     "execution_count": 39,
     "metadata": {},
     "output_type": "execute_result"
    }
   ],
   "source": [
    "pipe.score(X_test, y_test)"
   ]
  },
  {
   "cell_type": "markdown",
   "metadata": {},
   "source": [
    "We should be pretty excited. While we still have a lot of work to do, let's wrap this modified code into a `model.py` file so that we can redeploy!"
   ]
  },
  {
   "cell_type": "code",
   "execution_count": 40,
   "metadata": {},
   "outputs": [
    {
     "name": "stdout",
     "output_type": "stream",
     "text": [
      "Overwriting model.py\n"
     ]
    }
   ],
   "source": [
    "%%writefile model.py\n",
    "\n",
    "import pickle\n",
    "import pandas as pd\n",
    "from sklearn_pandas import DataFrameMapper\n",
    "from sklearn.model_selection import train_test_split\n",
    "from sklearn.linear_model import LinearRegression\n",
    "from sklearn.metrics import mean_squared_error\n",
    "from sklearn.impute import SimpleImputer\n",
    "from sklearn.pipeline import make_pipeline\n",
    "from sklearn.preprocessing import PolynomialFeatures\n",
    "\n",
    "df = pd.read_csv('data/weather_power.csv')\n",
    "\n",
    "target = 'energy_demand'\n",
    "y = df[target]\n",
    "X = df[['temperature']]\n",
    "\n",
    "X_train, X_test, y_train, y_test = train_test_split(X, y, test_size=0.1, shuffle=False)\n",
    "\n",
    "mapper = DataFrameMapper([\n",
    "    (['temperature'], [SimpleImputer(), PolynomialFeatures(degree=2, include_bias=False)])\n",
    "], df_out=True)\n",
    "\n",
    "model = LinearRegression()\n",
    "pipe = make_pipeline(mapper, model)\n",
    "pipe.fit(X_train, y_train)\n",
    "\n",
    "with open('pipe.pkl', 'wb') as f:\n",
    "    pickle.dump(pipe, f)"
   ]
  },
  {
   "cell_type": "markdown",
   "metadata": {},
   "source": [
    "# Deploy 03 (Heroku)"
   ]
  },
  {
   "cell_type": "markdown",
   "metadata": {},
   "source": [
    "As no dependencies have changed, it's going to be a lot easier to push a change, just..."
   ]
  },
  {
   "cell_type": "markdown",
   "metadata": {},
   "source": [
    "1. Retrain the model inside of the virtual environment:\n",
    "\n",
    "```\n",
    "python model.py\n",
    "```\n",
    "\n",
    "2. Test the app locally:\n",
    "\n",
    "```\n",
    "heroku local\n",
    "```\n",
    "\n",
    "3. Try a bucnch of different temperatures:\n",
    "\n",
    "- http://0.0.0.0:5000/predict?temperature=30\n",
    "- http://0.0.0.0:5000/predict?temperature=21\n",
    "- http://0.0.0.0:5000/predict?temperature=-10\n",
    "\n",
    "4. Kill the app to move on...\n",
    "\n",
    "5. add, commit push:\n",
    "\n",
    "```\n",
    "git add .\n",
    "git commit -m '🚀'\n",
    "git push heroku\n",
    "```\n",
    "\n",
    "6. Click on the url and make sure it works!\n",
    "\n",
    "- http://\\<url\\>/predict?temperature=20"
   ]
  },
  {
   "cell_type": "markdown",
   "metadata": {},
   "source": [
    "# Model 08 "
   ]
  },
  {
   "cell_type": "markdown",
   "metadata": {},
   "source": [
    "Right now our model is just using temperature, and although it does alright:"
   ]
  },
  {
   "cell_type": "code",
   "execution_count": 41,
   "metadata": {},
   "outputs": [
    {
     "data": {
      "image/png": "[encoded data removed]",
      "text/plain": [
       "<Figure size 432x288 with 1 Axes>"
      ]
     },
     "metadata": {
      "needs_background": "light"
     },
     "output_type": "display_data"
    }
   ],
   "source": [
    "plt.plot(range(len(y_test)), y_test, label='MW')\n",
    "plt.plot(range(len(y_test)), pipe.predict(X_test), label='MW (Predicted)')\n",
    "plt.legend();"
   ]
  },
  {
   "cell_type": "markdown",
   "metadata": {},
   "source": [
    "We can do better. We have a date column with timestamps! There has to be some good single in there. To get at it let's first convert the date column from a string to a date:"
   ]
  },
  {
   "cell_type": "code",
   "execution_count": 42,
   "metadata": {},
   "outputs": [],
   "source": [
    "df['date'] = pd.to_datetime(df['date'])"
   ]
  },
  {
   "cell_type": "markdown",
   "metadata": {},
   "source": [
    "Alternatively, we can parse the date column (0th position) on import, which is actually prefered:"
   ]
  },
  {
   "cell_type": "code",
   "execution_count": 43,
   "metadata": {},
   "outputs": [],
   "source": [
    "df = pd.read_csv('data/weather_power.csv', parse_dates=[0])"
   ]
  },
  {
   "cell_type": "markdown",
   "metadata": {},
   "source": [
    "The most interest and easiest date signals to capture are month, weekday and hour:"
   ]
  },
  {
   "cell_type": "code",
   "execution_count": 44,
   "metadata": {},
   "outputs": [
    {
     "data": {
      "text/html": [
       "<div>\n",
       "<style scoped>\n",
       "    .dataframe tbody tr th:only-of-type {\n",
       "        vertical-align: middle;\n",
       "    }\n",
       "\n",
       "    .dataframe tbody tr th {\n",
       "        vertical-align: top;\n",
       "    }\n",
       "\n",
       "    .dataframe thead th {\n",
       "        text-align: right;\n",
       "    }\n",
       "</style>\n",
       "<table border=\"1\" class=\"dataframe\">\n",
       "  <thead>\n",
       "    <tr style=\"text-align: right;\">\n",
       "      <th></th>\n",
       "      <th>date</th>\n",
       "      <th>date</th>\n",
       "      <th>date</th>\n",
       "    </tr>\n",
       "  </thead>\n",
       "  <tbody>\n",
       "    <tr>\n",
       "      <th>0</th>\n",
       "      <td>1</td>\n",
       "      <td>0</td>\n",
       "      <td>0</td>\n",
       "    </tr>\n",
       "    <tr>\n",
       "      <th>1</th>\n",
       "      <td>1</td>\n",
       "      <td>0</td>\n",
       "      <td>1</td>\n",
       "    </tr>\n",
       "    <tr>\n",
       "      <th>2</th>\n",
       "      <td>1</td>\n",
       "      <td>0</td>\n",
       "      <td>2</td>\n",
       "    </tr>\n",
       "    <tr>\n",
       "      <th>3</th>\n",
       "      <td>1</td>\n",
       "      <td>0</td>\n",
       "      <td>3</td>\n",
       "    </tr>\n",
       "    <tr>\n",
       "      <th>4</th>\n",
       "      <td>1</td>\n",
       "      <td>0</td>\n",
       "      <td>4</td>\n",
       "    </tr>\n",
       "    <tr>\n",
       "      <th>...</th>\n",
       "      <td>...</td>\n",
       "      <td>...</td>\n",
       "      <td>...</td>\n",
       "    </tr>\n",
       "    <tr>\n",
       "      <th>23035</th>\n",
       "      <td>8</td>\n",
       "      <td>0</td>\n",
       "      <td>19</td>\n",
       "    </tr>\n",
       "    <tr>\n",
       "      <th>23036</th>\n",
       "      <td>8</td>\n",
       "      <td>0</td>\n",
       "      <td>20</td>\n",
       "    </tr>\n",
       "    <tr>\n",
       "      <th>23037</th>\n",
       "      <td>8</td>\n",
       "      <td>0</td>\n",
       "      <td>21</td>\n",
       "    </tr>\n",
       "    <tr>\n",
       "      <th>23038</th>\n",
       "      <td>8</td>\n",
       "      <td>0</td>\n",
       "      <td>22</td>\n",
       "    </tr>\n",
       "    <tr>\n",
       "      <th>23039</th>\n",
       "      <td>8</td>\n",
       "      <td>0</td>\n",
       "      <td>23</td>\n",
       "    </tr>\n",
       "  </tbody>\n",
       "</table>\n",
       "<p>23040 rows × 3 columns</p>\n",
       "</div>"
      ],
      "text/plain": [
       "       date  date  date\n",
       "0         1     0     0\n",
       "1         1     0     1\n",
       "2         1     0     2\n",
       "3         1     0     3\n",
       "4         1     0     4\n",
       "...     ...   ...   ...\n",
       "23035     8     0    19\n",
       "23036     8     0    20\n",
       "23037     8     0    21\n",
       "23038     8     0    22\n",
       "23039     8     0    23\n",
       "\n",
       "[23040 rows x 3 columns]"
      ]
     },
     "execution_count": 44,
     "metadata": {},
     "output_type": "execute_result"
    }
   ],
   "source": [
    "col = df['date']\n",
    "\n",
    "pd.concat([col.dt.month, col.dt.weekday, col.dt.hour], axis=1)"
   ]
  },
  {
   "cell_type": "markdown",
   "metadata": {},
   "source": [
    "To embed these new signals in our app let's recut our `X`s and `y`s:"
   ]
  },
  {
   "cell_type": "code",
   "execution_count": 45,
   "metadata": {},
   "outputs": [],
   "source": [
    "target = 'energy_demand'\n",
    "y = df[target]\n",
    "X = df[['date', 'temperature']]\n",
    "\n",
    "X_train, X_test, y_train, y_test = train_test_split(X, y, test_size=0.1, shuffle=False)"
   ]
  },
  {
   "cell_type": "markdown",
   "metadata": {},
   "source": [
    "And build a scikit-learn transformer to handle the date features for us:"
   ]
  },
  {
   "cell_type": "code",
   "execution_count": 46,
   "metadata": {},
   "outputs": [],
   "source": [
    "from sklearn.base import TransformerMixin\n",
    "\n",
    "class DateEncoder(TransformerMixin):\n",
    "    def fit(self, X, y=None):\n",
    "        return self\n",
    "    def transform(self, X):\n",
    "        return pd.concat([X.dt.month, X.dt.weekday, X.dt.hour], axis=1)"
   ]
  },
  {
   "cell_type": "markdown",
   "metadata": {},
   "source": [
    "This way we can apply it on the `X_train` and `X_test` objects:"
   ]
  },
  {
   "cell_type": "code",
   "execution_count": 47,
   "metadata": {},
   "outputs": [
    {
     "data": {
      "text/html": [
       "<div>\n",
       "<style scoped>\n",
       "    .dataframe tbody tr th:only-of-type {\n",
       "        vertical-align: middle;\n",
       "    }\n",
       "\n",
       "    .dataframe tbody tr th {\n",
       "        vertical-align: top;\n",
       "    }\n",
       "\n",
       "    .dataframe thead th {\n",
       "        text-align: right;\n",
       "    }\n",
       "</style>\n",
       "<table border=\"1\" class=\"dataframe\">\n",
       "  <thead>\n",
       "    <tr style=\"text-align: right;\">\n",
       "      <th></th>\n",
       "      <th>date</th>\n",
       "      <th>date</th>\n",
       "      <th>date</th>\n",
       "    </tr>\n",
       "  </thead>\n",
       "  <tbody>\n",
       "    <tr>\n",
       "      <th>0</th>\n",
       "      <td>1</td>\n",
       "      <td>0</td>\n",
       "      <td>0</td>\n",
       "    </tr>\n",
       "    <tr>\n",
       "      <th>1</th>\n",
       "      <td>1</td>\n",
       "      <td>0</td>\n",
       "      <td>1</td>\n",
       "    </tr>\n",
       "    <tr>\n",
       "      <th>2</th>\n",
       "      <td>1</td>\n",
       "      <td>0</td>\n",
       "      <td>2</td>\n",
       "    </tr>\n",
       "    <tr>\n",
       "      <th>3</th>\n",
       "      <td>1</td>\n",
       "      <td>0</td>\n",
       "      <td>3</td>\n",
       "    </tr>\n",
       "    <tr>\n",
       "      <th>4</th>\n",
       "      <td>1</td>\n",
       "      <td>0</td>\n",
       "      <td>4</td>\n",
       "    </tr>\n",
       "    <tr>\n",
       "      <th>...</th>\n",
       "      <td>...</td>\n",
       "      <td>...</td>\n",
       "      <td>...</td>\n",
       "    </tr>\n",
       "    <tr>\n",
       "      <th>20731</th>\n",
       "      <td>5</td>\n",
       "      <td>2</td>\n",
       "      <td>19</td>\n",
       "    </tr>\n",
       "    <tr>\n",
       "      <th>20732</th>\n",
       "      <td>5</td>\n",
       "      <td>2</td>\n",
       "      <td>20</td>\n",
       "    </tr>\n",
       "    <tr>\n",
       "      <th>20733</th>\n",
       "      <td>5</td>\n",
       "      <td>2</td>\n",
       "      <td>21</td>\n",
       "    </tr>\n",
       "    <tr>\n",
       "      <th>20734</th>\n",
       "      <td>5</td>\n",
       "      <td>2</td>\n",
       "      <td>22</td>\n",
       "    </tr>\n",
       "    <tr>\n",
       "      <th>20735</th>\n",
       "      <td>5</td>\n",
       "      <td>2</td>\n",
       "      <td>23</td>\n",
       "    </tr>\n",
       "  </tbody>\n",
       "</table>\n",
       "<p>20736 rows × 3 columns</p>\n",
       "</div>"
      ],
      "text/plain": [
       "       date  date  date\n",
       "0         1     0     0\n",
       "1         1     0     1\n",
       "2         1     0     2\n",
       "3         1     0     3\n",
       "4         1     0     4\n",
       "...     ...   ...   ...\n",
       "20731     5     2    19\n",
       "20732     5     2    20\n",
       "20733     5     2    21\n",
       "20734     5     2    22\n",
       "20735     5     2    23\n",
       "\n",
       "[20736 rows x 3 columns]"
      ]
     },
     "execution_count": 47,
     "metadata": {},
     "output_type": "execute_result"
    }
   ],
   "source": [
    "DateEncoder().fit_transform(X_train['date'])"
   ]
  },
  {
   "cell_type": "markdown",
   "metadata": {},
   "source": [
    "And easily embed it in our mapper framework:"
   ]
  },
  {
   "cell_type": "code",
   "execution_count": 48,
   "metadata": {},
   "outputs": [
    {
     "data": {
      "text/plain": [
       "Pipeline(steps=[('dataframemapper',\n",
       "                 DataFrameMapper(df_out=True,\n",
       "                                 features=[('date',\n",
       "                                            <__main__.DateEncoder object at 0x7fe427ec2580>,\n",
       "                                            {'input_df': True}),\n",
       "                                           (['temperature'],\n",
       "                                            [SimpleImputer(),\n",
       "                                             PolynomialFeatures(include_bias=False)])])),\n",
       "                ('linearregression', LinearRegression())])"
      ]
     },
     "execution_count": 48,
     "metadata": {},
     "output_type": "execute_result"
    }
   ],
   "source": [
    "mapper = DataFrameMapper([\n",
    "    ('date', DateEncoder(), {'input_df': True}),\n",
    "    (['temperature'], [SimpleImputer(), PolynomialFeatures(degree=2, include_bias=False)])\n",
    "], df_out=True)\n",
    "\n",
    "model = LinearRegression()\n",
    "pipe = make_pipeline(mapper, model)\n",
    "pipe.fit(X_train, y_train)"
   ]
  },
  {
   "cell_type": "markdown",
   "metadata": {},
   "source": [
    "This new model shaves even more off our RMSE score (remember how we started off by ~1400 MW!!):"
   ]
  },
  {
   "cell_type": "code",
   "execution_count": 49,
   "metadata": {},
   "outputs": [
    {
     "data": {
      "text/plain": [
       "801.8078829389401"
      ]
     },
     "execution_count": 49,
     "metadata": {},
     "output_type": "execute_result"
    }
   ],
   "source": [
    "mean_squared_error(y_test, pipe.predict(X_test)) ** (1/2)"
   ]
  },
  {
   "cell_type": "markdown",
   "metadata": {},
   "source": [
    "And explains even more variance:"
   ]
  },
  {
   "cell_type": "code",
   "execution_count": 50,
   "metadata": {},
   "outputs": [
    {
     "data": {
      "text/plain": [
       "0.667215461044525"
      ]
     },
     "execution_count": 50,
     "metadata": {},
     "output_type": "execute_result"
    }
   ],
   "source": [
    "pipe.score(X_test, y_test)"
   ]
  },
  {
   "cell_type": "markdown",
   "metadata": {},
   "source": [
    "The prediction plot shows that dates signals really helped:"
   ]
  },
  {
   "cell_type": "code",
   "execution_count": 51,
   "metadata": {},
   "outputs": [
    {
     "data": {
      "image/png": "[encoded data removed]",
      "text/plain": [
       "<Figure size 432x288 with 1 Axes>"
      ]
     },
     "metadata": {
      "needs_background": "light"
     },
     "output_type": "display_data"
    }
   ],
   "source": [
    "plt.plot(range(len(y_test)), y_test, label='MW')\n",
    "plt.plot(range(len(y_test)), pipe.predict(X_test), label='MW (Predicted)')\n",
    "plt.legend();"
   ]
  },
  {
   "cell_type": "markdown",
   "metadata": {},
   "source": [
    "Unfortunately, because of how pickle works, we have move the `DateEncoder` to a `utils.py` file (and import it separately in our app... bummer, I know):"
   ]
  },
  {
   "cell_type": "code",
   "execution_count": 52,
   "metadata": {},
   "outputs": [
    {
     "name": "stdout",
     "output_type": "stream",
     "text": [
      "Overwriting utils.py\n"
     ]
    }
   ],
   "source": [
    "%%writefile utils.py\n",
    "\n",
    "import pandas as pd\n",
    "from sklearn.base import TransformerMixin\n",
    "\n",
    "class DateEncoder(TransformerMixin):\n",
    "    def fit(self, X, y=None):\n",
    "        return self\n",
    "    def transform(self, X):\n",
    "        return pd.concat([X.dt.month, X.dt.weekday, X.dt.hour], axis=1)"
   ]
  },
  {
   "cell_type": "markdown",
   "metadata": {},
   "source": [
    "The full working model should be written to a new `model.py` file so that we can can retrain within our environment:"
   ]
  },
  {
   "cell_type": "code",
   "execution_count": 53,
   "metadata": {},
   "outputs": [
    {
     "name": "stdout",
     "output_type": "stream",
     "text": [
      "Overwriting model.py\n"
     ]
    }
   ],
   "source": [
    "%%writefile model.py\n",
    "\n",
    "import pickle\n",
    "import pandas as pd\n",
    "from sklearn_pandas import DataFrameMapper\n",
    "from sklearn.model_selection import train_test_split\n",
    "from sklearn.linear_model import LinearRegression\n",
    "from sklearn.metrics import mean_squared_error\n",
    "from sklearn.impute import SimpleImputer\n",
    "from sklearn.pipeline import make_pipeline\n",
    "from sklearn.preprocessing import PolynomialFeatures\n",
    "\n",
    "from utils import DateEncoder # CUSTOM MODULE IMPORT\n",
    "\n",
    "df = pd.read_csv('data/weather_power.csv', parse_dates=[0])\n",
    "\n",
    "target = 'energy_demand'\n",
    "y = df[target]\n",
    "X = df[['date', 'temperature']]\n",
    "\n",
    "X_train, X_test, y_train, y_test = train_test_split(X, y, test_size=0.1, shuffle=False)\n",
    "\n",
    "mapper = DataFrameMapper([\n",
    "    ('date', DateEncoder(), {'input_df': True}),\n",
    "    (['temperature'], [SimpleImputer(), PolynomialFeatures(degree=2, include_bias=False)])\n",
    "], df_out=True)\n",
    "\n",
    "model = LinearRegression()\n",
    "pipe = make_pipeline(mapper, model)\n",
    "pipe.fit(X_train, y_train)\n",
    "\n",
    "with open('pipe.pkl', 'wb') as f:\n",
    "    pickle.dump(pipe, f)"
   ]
  },
  {
   "cell_type": "markdown",
   "metadata": {},
   "source": [
    "# App 08"
   ]
  },
  {
   "cell_type": "markdown",
   "metadata": {},
   "source": [
    "To integrate this new model into our fastAPI app, add the custom `DateEncoder` import and and adjust the index endpoint function to accept a dictionary.\n",
    "\n",
    "Might as well make it post request at the same time!"
   ]
  },
  {
   "cell_type": "code",
   "execution_count": 54,
   "metadata": {},
   "outputs": [
    {
     "name": "stdout",
     "output_type": "stream",
     "text": [
      "Overwriting app.py\n"
     ]
    }
   ],
   "source": [
    "%%writefile app.py\n",
    "\n",
    "import pickle\n",
    "import pandas as pd\n",
    "import uvicorn\n",
    "from fastapi import FastAPI\n",
    "from typing import Dict\n",
    "import os\n",
    "from utils import DateEncoder\n",
    "\n",
    "app = FastAPI()\n",
    "\n",
    "with open('pipe.pkl', 'rb') as f:\n",
    "    pipe = pickle.load(f)\n",
    "\n",
    "@app.post('/')\n",
    "def index(json_data: Dict):\n",
    "    new = pd.DataFrame({\n",
    "        'date': [pd.Timestamp(json_data.get('date'))],\n",
    "        'temperature': [float(json_data.get('temperature'))]\n",
    "    })\n",
    "    prediction = pipe.predict(new)[0]\n",
    "    return {'prediction': prediction}\n",
    "\n",
    "if __name__ == '__main__':\n",
    "    uvicorn.run(app)"
   ]
  },
  {
   "cell_type": "markdown",
   "metadata": {},
   "source": [
    "# Post Carrier Function"
   ]
  },
  {
   "cell_type": "markdown",
   "metadata": {},
   "source": [
    "Converting our app from GET to POST requests, means that we lose the query string paradigm. In order to interoperate with this new app, we'll need a function to send data to the endpoint and parse the response. This is what I use:"
   ]
  },
  {
   "cell_type": "code",
   "execution_count": 55,
   "metadata": {},
   "outputs": [],
   "source": [
    "import json\n",
    "from urllib.request import Request, urlopen\n",
    "import pandas as pd\n",
    "\n",
    "def post(url, data):\n",
    "    data = bytes(json.dumps(data).encode(\"utf-8\"))\n",
    "    request = Request(\n",
    "        url=url,\n",
    "        data=data,\n",
    "        method=\"POST\"\n",
    "    )\n",
    "    request.add_header(\"Content-type\", \"application/json; charset=UTF-8\")\n",
    "    with urlopen(request) as response:\n",
    "        data = json.loads(response.read().decode(\"utf-8\"))\n",
    "    return data"
   ]
  },
  {
   "cell_type": "markdown",
   "metadata": {},
   "source": [
    "# Deploy 04 (Dokku)"
   ]
  },
  {
   "cell_type": "markdown",
   "metadata": {},
   "source": [
    "While Heroku is great. It's expensive, and sleeps after awhile. It's time to graduate to Dokku (a Heroku Open Source alternative, and overall just way better). Deploying to Dokku is a little more involved but I promise it's worth it!\n",
    "\n",
    "Rerun the model:\n",
    "\n",
    "```\n",
    "python model.py\n",
    "```\n",
    "\n",
    "Make sure it still works locally:\n",
    "\n",
    "```\n",
    "uvicorn app:app --port 5000 --reload\n",
    "```\n",
    "\n",
    "And our new \"post carrier\" function to test:"
   ]
  },
  {
   "cell_type": "code",
   "execution_count": 56,
   "metadata": {},
   "outputs": [],
   "source": [
    "data = {\n",
    "    \"date\": str(pd.Timestamp('now')),\n",
    "    \"temperature\": 25\n",
    "}"
   ]
  },
  {
   "cell_type": "markdown",
   "metadata": {},
   "source": [
    "```python\n",
    "post(\"http://127.0.0.1:5000\", data)\n",
    "```"
   ]
  },
  {
   "cell_type": "markdown",
   "metadata": {},
   "source": [
    "Once you've confirmed that it still works, let's get working on Dokku."
   ]
  },
  {
   "cell_type": "markdown",
   "metadata": {},
   "source": [
    "My deploy Dokku to setup:\n",
    "\n",
    "1. Sign up for a [DigitalOcean](https://m.do.co/c/2909cd1f3f10) account\n",
    "\n",
    "2. Spin up a $5 Ubuntu 20/18.04 server...\n",
    "\n",
    "3. ssh into it:\n",
    "\n",
    "```\n",
    "ssh root@142.XXX.153.207\n",
    "```\n",
    "\n",
    "4. (Strongly advised) Update everything:\n",
    "\n",
    "```\n",
    "sudo apt update\n",
    "sudo apt -y upgrade\n",
    "```\n",
    "\n",
    "5. Setup a firewall:\n",
    "\n",
    "````\n",
    "ufw app list\n",
    "ufw allow OpenSSH\n",
    "ufw enable\n",
    "````\n",
    "\n",
    "6. Add some rules ([source](https://www.digitalocean.com/community/tutorials/how-to-set-up-a-firewall-with-ufw-on-ubuntu-18-04)):\n",
    "\n",
    "```\n",
    "sudo ufw default deny incoming\n",
    "sudo ufw default allow outgoing\n",
    "sudo ufw allow ssh\n",
    "sudo ufw allow 22\n",
    "sudo ufw allow http\n",
    "sudo ufw allow https\n",
    "```\n",
    "\n",
    "7. Install dokku (be patient... takes about 5 minutes):\n",
    "\n",
    "```\n",
    "wget https://raw.githubusercontent.com/dokku/dokku/v0.21.4/bootstrap.sh\n",
    "sudo DOKKU_TAG=v0.21.4 bash bootstrap.sh\n",
    "```\n",
    "\n",
    "**THIS STEP IS IMPORTANT!**\n",
    "\n",
    "8. Visit the Droplet’s IP address in a browser to finish configuring Dokku\n",
    "\n",
    "\n",
    "9. Copy and paste your ssh key from your **laptop** into the config window:\n",
    "\n",
    "```\n",
    "cat .ssh/id_rsa.pub\n",
    "```\n",
    "\n",
    "10. And add the IP of the server to the hostname:\n",
    "\n",
    "`142.XXX.153.207`\n",
    "\n",
    "\n",
    "11. Click \"Finish Setup\"...\n",
    "\n",
    "\n",
    "12. Go back to the server terminal and create a dokku app on the server (I'm calling this one `powerapp`):\n",
    "\n",
    "```\n",
    "dokku apps:create powerapp\n",
    "dokku domains:enable powerapp\n",
    "\n",
    "```\n",
    "\n",
    "**On Laptop**\n",
    "\n",
    "12. Add dokku as a remote:\n",
    "\n",
    "```\n",
    "git remote add dokku dokku@142.XXX.153.207:powerapp\n",
    "```\n",
    "\n",
    "13. Verify that the remote got added:\n",
    "\n",
    "```\n",
    "git remote -v\n",
    "```\n",
    "\n",
    "14. Push it up (for every new change just run these commands):\n",
    "\n",
    "```\n",
    "git add .\n",
    "git commit -m '🤞'\n",
    "git push dokku\n",
    "```\n",
    "\n",
    "15. Test if it works with the post function:"
   ]
  },
  {
   "cell_type": "markdown",
   "metadata": {},
   "source": [
    "```python \n",
    "post(\"http://142.93.153.207\", data)\n",
    "```"
   ]
  },
  {
   "cell_type": "markdown",
   "metadata": {},
   "source": [
    "# Model 09"
   ]
  },
  {
   "cell_type": "markdown",
   "metadata": {},
   "source": [
    "Okay, time to graduate to some deep learning. Unfortunately Tensorflow isn't supported by Heroku. But we aren't deploying to Heroku anymore, we've got Dokku and it works just fine!\n",
    "\n",
    "Using a `Sequential` I'm going to build a simple neural net with two layers:"
   ]
  },
  {
   "cell_type": "code",
   "execution_count": 57,
   "metadata": {},
   "outputs": [
    {
     "data": {
      "text/plain": [
       "<tensorflow.python.keras.callbacks.History at 0x7fe42d24ed60>"
      ]
     },
     "execution_count": 57,
     "metadata": {},
     "output_type": "execute_result"
    }
   ],
   "source": [
    "import tensorflow as tf\n",
    "from tensorflow import keras\n",
    "from tensorflow.keras.models import Sequential\n",
    "from tensorflow.keras.layers import Dense, Input\n",
    "\n",
    "mapper = DataFrameMapper([\n",
    "    ('date', DateEncoder(), {'input_df': True}),\n",
    "    (['temperature'], [SimpleImputer(), PolynomialFeatures(degree=2, include_bias=False)])\n",
    "], df_out=True)\n",
    "\n",
    "Z_train = mapper.fit_transform(X_train)\n",
    "Z_test = mapper.transform(X_test)\n",
    "\n",
    "model = Sequential()\n",
    "model.add(Input(shape=(Z_train.shape[1],)))\n",
    "model.add(Dense(10, activation='relu'))\n",
    "model.add(Dense(10, activation='relu'))\n",
    "model.add(Dense(1))\n",
    "\n",
    "model.compile(\n",
    "    loss='mean_squared_error',\n",
    "    optimizer='adam',\n",
    "    metrics=[tf.keras.metrics.RootMeanSquaredError()]\n",
    ")\n",
    "\n",
    "model.fit(Z_train, y_train, epochs=100, verbose=0)"
   ]
  },
  {
   "cell_type": "markdown",
   "metadata": {},
   "source": [
    "Evaluating the model we can see that it crushes our scikit-learn model:"
   ]
  },
  {
   "cell_type": "code",
   "execution_count": 58,
   "metadata": {},
   "outputs": [
    {
     "name": "stdout",
     "output_type": "stream",
     "text": [
      "72/72 [==============================] - 0s 695us/step - loss: 243344.0625 - root_mean_squared_error: 493.2992\n"
     ]
    },
    {
     "data": {
      "text/plain": [
       "[243344.0625, 493.2991638183594]"
      ]
     },
     "execution_count": 58,
     "metadata": {},
     "output_type": "execute_result"
    }
   ],
   "source": [
    "model.evaluate(Z_test, y_test)"
   ]
  },
  {
   "cell_type": "markdown",
   "metadata": {},
   "source": [
    "Explaining over 85% of the variance!!"
   ]
  },
  {
   "cell_type": "code",
   "execution_count": 59,
   "metadata": {},
   "outputs": [
    {
     "data": {
      "text/plain": [
       "(0.8740369121339406, 0.8740369121339406)"
      ]
     },
     "execution_count": 59,
     "metadata": {},
     "output_type": "execute_result"
    }
   ],
   "source": [
    "from sklearn.metrics import r2_score\n",
    "\n",
    "r2_score(y_test, model.predict(Z_test)), r2_score(y_test, model.predict(Z_test))"
   ]
  },
  {
   "cell_type": "markdown",
   "metadata": {},
   "source": [
    "Which, honestly is pretty incredible for just a date and temperature feature"
   ]
  },
  {
   "cell_type": "markdown",
   "metadata": {},
   "source": [
    "To predict a new row we have to chain together the mapper and the model:"
   ]
  },
  {
   "cell_type": "code",
   "execution_count": 60,
   "metadata": {},
   "outputs": [
    {
     "data": {
      "text/plain": [
       "5865.785"
      ]
     },
     "execution_count": 60,
     "metadata": {},
     "output_type": "execute_result"
    }
   ],
   "source": [
    "new = pd.DataFrame({\n",
    "    'date': [pd.Timestamp('now')],\n",
    "    'temperature': [17]\n",
    "})\n",
    "\n",
    "model.predict(mapper.transform(new))[0][0]"
   ]
  },
  {
   "cell_type": "markdown",
   "metadata": {},
   "source": [
    "Look at how dope this is:"
   ]
  },
  {
   "cell_type": "code",
   "execution_count": 61,
   "metadata": {
    "scrolled": true
   },
   "outputs": [
    {
     "data": {
      "image/png": "[encoded data removed]",
      "text/plain": [
       "<Figure size 720x360 with 1 Axes>"
      ]
     },
     "metadata": {
      "needs_background": "light"
     },
     "output_type": "display_data"
    }
   ],
   "source": [
    "plt.figure(figsize=(10, 5))\n",
    "plt.plot(X_test['date'], y_test, alpha=1/2, label='MW');\n",
    "plt.plot(X_test['date'], model.predict(Z_test).flatten(), alpha=1/2, label='MW (Predicted)');\n",
    "plt.legend();"
   ]
  },
  {
   "cell_type": "markdown",
   "metadata": {},
   "source": [
    "# Model 10"
   ]
  },
  {
   "cell_type": "markdown",
   "metadata": {},
   "source": [
    "I don't like how we have to keep track of a bunch of things, and do a transform before prediction. To get around that let's bring in a `KerasRegressor` Wrapper and a SelectKBest feature transformer (to make sure that our shape is always consistent... not really needed here, but a good idea):"
   ]
  },
  {
   "cell_type": "code",
   "execution_count": 62,
   "metadata": {},
   "outputs": [],
   "source": [
    "from tensorflow.keras.wrappers.scikit_learn import KerasRegressor\n",
    "from tensorflow.keras.models import load_model\n",
    "from sklearn.feature_selection import SelectKBest\n",
    "\n",
    "Z_train = mapper.fit_transform(X_train)\n",
    "Z_test = mapper.transform(X_test)\n",
    "\n",
    "columns = 5\n",
    "select = SelectKBest(k=columns)\n",
    "\n",
    "select.fit_transform(Z_train, y_train)\n",
    "\n",
    "def nn():\n",
    "    columns = 5\n",
    "    m = Sequential()\n",
    "    m.add(Input(shape=(columns,)))\n",
    "    m.add(Dense(10, activation='relu'))\n",
    "    m.add(Dense(10, activation='relu'))\n",
    "    m.add(Dense(1))\n",
    "    m.compile(\n",
    "        loss='mean_squared_error',\n",
    "        optimizer='adam',\n",
    "        metrics=[tf.keras.metrics.RootMeanSquaredError()]\n",
    "    )\n",
    "    return m\n",
    "\n",
    "model = KerasRegressor(nn, epochs=100, verbose=0)"
   ]
  },
  {
   "cell_type": "markdown",
   "metadata": {},
   "source": [
    "Now our pipeline can transform and predict like we're use to:"
   ]
  },
  {
   "cell_type": "code",
   "execution_count": 63,
   "metadata": {},
   "outputs": [
    {
     "data": {
      "text/plain": [
       "Pipeline(steps=[('dataframemapper',\n",
       "                 DataFrameMapper(df_out=True,\n",
       "                                 features=[('date',\n",
       "                                            <__main__.DateEncoder object at 0x7fe42904c490>,\n",
       "                                            {'input_df': True}),\n",
       "                                           (['temperature'],\n",
       "                                            [SimpleImputer(),\n",
       "                                             PolynomialFeatures(include_bias=False)])])),\n",
       "                ('selectkbest', SelectKBest(k=5)),\n",
       "                ('kerasregressor',\n",
       "                 <tensorflow.python.keras.wrappers.scikit_learn.KerasRegressor object at 0x7fe42dd1fc70>)])"
      ]
     },
     "execution_count": 63,
     "metadata": {},
     "output_type": "execute_result"
    }
   ],
   "source": [
    "pipe = make_pipeline(mapper, select, model)\n",
    "pipe.fit(X_train, y_train)"
   ]
  },
  {
   "cell_type": "markdown",
   "metadata": {},
   "source": [
    "Rolling a new prediction on a new datapoint just looks like this now:"
   ]
  },
  {
   "cell_type": "code",
   "execution_count": 64,
   "metadata": {},
   "outputs": [
    {
     "data": {
      "text/plain": [
       "6080.681640625"
      ]
     },
     "execution_count": 64,
     "metadata": {},
     "output_type": "execute_result"
    }
   ],
   "source": [
    "new = pd.DataFrame({\n",
    "    'date': [pd.Timestamp('now')],\n",
    "    'temperature': [17]\n",
    "})\n",
    "\n",
    "float(pipe.predict(new))"
   ]
  },
  {
   "cell_type": "markdown",
   "metadata": {},
   "source": [
    "Unfortunately, serializing is a bit of a headache. We can't just dump the pipeline as we have been, we first have to dump the TF model weights, delete the network and then dump:"
   ]
  },
  {
   "cell_type": "code",
   "execution_count": 65,
   "metadata": {},
   "outputs": [],
   "source": [
    "pipe.named_steps['kerasregressor'].model.save('model.h5')\n",
    "pipe.named_steps['kerasregressor'].model = None"
   ]
  },
  {
   "cell_type": "code",
   "execution_count": 66,
   "metadata": {},
   "outputs": [],
   "source": [
    "with open('pipe.pkl', 'wb') as f:\n",
    "    pickle.dump(pipe, f)"
   ]
  },
  {
   "cell_type": "markdown",
   "metadata": {},
   "source": [
    "To load it all back up, it'll look like this:"
   ]
  },
  {
   "cell_type": "code",
   "execution_count": 67,
   "metadata": {},
   "outputs": [],
   "source": [
    "with open('pipe.pkl', 'rb') as f:\n",
    "    pipe = pickle.load(f)\n",
    "\n",
    "pipe.named_steps['kerasregressor'].model = load_model('model.h5')"
   ]
  },
  {
   "cell_type": "markdown",
   "metadata": {},
   "source": [
    "But in our app, we'll just have to call:"
   ]
  },
  {
   "cell_type": "code",
   "execution_count": 68,
   "metadata": {},
   "outputs": [
    {
     "data": {
      "text/plain": [
       "6080.681640625"
      ]
     },
     "execution_count": 68,
     "metadata": {},
     "output_type": "execute_result"
    }
   ],
   "source": [
    "float(pipe.predict(new))"
   ]
  },
  {
   "cell_type": "markdown",
   "metadata": {},
   "source": [
    "Just like we had to move DateEncoder to a separate utils.py module, so to do we have to the same thing for the `nn` function definition:"
   ]
  },
  {
   "cell_type": "code",
   "execution_count": 69,
   "metadata": {},
   "outputs": [
    {
     "name": "stdout",
     "output_type": "stream",
     "text": [
      "Overwriting utils.py\n"
     ]
    }
   ],
   "source": [
    "%%writefile utils.py\n",
    "\n",
    "import pandas as pd\n",
    "from sklearn.base import TransformerMixin\n",
    "import tensorflow as tf\n",
    "from tensorflow import keras\n",
    "from tensorflow.keras.models import Sequential\n",
    "from tensorflow.keras.layers import Dense, Input\n",
    "\n",
    "class DateEncoder(TransformerMixin):\n",
    "    def fit(self, X, y=None):\n",
    "        return self\n",
    "    def transform(self, X):\n",
    "        return pd.concat([X.dt.month, X.dt.weekday, X.dt.hour], axis=1)\n",
    "    \n",
    "def nn():\n",
    "    columns = 5\n",
    "    m = Sequential()\n",
    "    m.add(Input(shape=(columns,)))\n",
    "    m.add(Dense(10, activation='relu'))\n",
    "    m.add(Dense(10, activation='relu'))\n",
    "    m.add(Dense(1))\n",
    "    m.compile(\n",
    "        loss='mean_squared_error',\n",
    "        optimizer='adam',\n",
    "        metrics=[tf.keras.metrics.RootMeanSquaredError()]\n",
    "    )\n",
    "    return m"
   ]
  },
  {
   "cell_type": "markdown",
   "metadata": {},
   "source": [
    "Now let's write the full model:"
   ]
  },
  {
   "cell_type": "code",
   "execution_count": 70,
   "metadata": {},
   "outputs": [
    {
     "name": "stdout",
     "output_type": "stream",
     "text": [
      "Overwriting model.py\n"
     ]
    }
   ],
   "source": [
    "%%writefile model.py\n",
    "\n",
    "import pickle\n",
    "import pandas as pd\n",
    "from sklearn_pandas import DataFrameMapper\n",
    "from sklearn.model_selection import train_test_split\n",
    "from sklearn.impute import SimpleImputer\n",
    "from sklearn.pipeline import make_pipeline\n",
    "from sklearn.preprocessing import PolynomialFeatures\n",
    "from sklearn.feature_selection import SelectKBest\n",
    "import tensorflow as tf\n",
    "from tensorflow.keras.models import Sequential\n",
    "from tensorflow.keras.layers import Dense, Input\n",
    "from tensorflow.keras.wrappers.scikit_learn import KerasRegressor\n",
    "from tensorflow.keras.models import load_model\n",
    "\n",
    "from utils import DateEncoder, nn\n",
    "\n",
    "df = pd.read_csv('data/weather_power.csv', parse_dates=[0])\n",
    "\n",
    "target = 'energy_demand'\n",
    "y = df[target]\n",
    "X = df[['date', 'temperature']]\n",
    "\n",
    "X_train, X_test, y_train, y_test = train_test_split(X, y, test_size=0.1, shuffle=False)\n",
    "\n",
    "mapper = DataFrameMapper([\n",
    "    ('date', DateEncoder(), {'input_df': True}),\n",
    "    (['temperature'], [SimpleImputer(), PolynomialFeatures(degree=2, include_bias=False)])\n",
    "], df_out=True)\n",
    "\n",
    "columns = 5\n",
    "select = SelectKBest(k=columns)\n",
    "\n",
    "model = KerasRegressor(nn, epochs=100, batch_size=32, verbose=0)\n",
    "\n",
    "pipe = make_pipeline(mapper, select, model)\n",
    "pipe.fit(X_train, y_train)\n",
    "\n",
    "pipe.named_steps['kerasregressor'].model.save('model.h5')\n",
    "pipe.named_steps['kerasregressor'].model = None\n",
    "\n",
    "with open('pipe.pkl', 'wb') as f:\n",
    "    pickle.dump(pipe, f)"
   ]
  },
  {
   "cell_type": "markdown",
   "metadata": {},
   "source": [
    "# App 10"
   ]
  },
  {
   "cell_type": "markdown",
   "metadata": {},
   "source": [
    "We beefed up our model real good. Let's do the same time to our app!\n",
    "\n",
    "We'll add in the tensorflow model and turn our function into an `async` function and lean on `pydantic` to more easily parse the `RequestData` in the post request:"
   ]
  },
  {
   "cell_type": "code",
   "execution_count": 71,
   "metadata": {},
   "outputs": [
    {
     "name": "stdout",
     "output_type": "stream",
     "text": [
      "Overwriting app.py\n"
     ]
    }
   ],
   "source": [
    "%%writefile app.py\n",
    "\n",
    "import os\n",
    "import pickle\n",
    "\n",
    "from fastapi import FastAPI\n",
    "import uvicorn\n",
    "from typing import Dict\n",
    "from pydantic import BaseModel\n",
    "\n",
    "import pandas as pd\n",
    "from tensorflow.keras.models import load_model\n",
    "from utils import DateEncoder, nn\n",
    "\n",
    "app = FastAPI()\n",
    "\n",
    "with open('pipe.pkl', 'rb') as f:\n",
    "    pipe = pickle.load(f)\n",
    "\n",
    "pipe.named_steps['kerasregressor'].model = load_model('model.h5')\n",
    "\n",
    "class RequestData(BaseModel):\n",
    "    date: str\n",
    "    temperature: float\n",
    "\n",
    "@app.post('/')\n",
    "async def index(request: RequestData): # add async and RequestData\n",
    "    new = pd.DataFrame({\n",
    "        'date': [pd.Timestamp(request.date)],\n",
    "        'temperature': [request.temperature]\n",
    "    })\n",
    "    prediction = float(pipe.predict(new))\n",
    "    return {'prediction': prediction}\n",
    "\n",
    "if __name__ == '__main__':\n",
    "    uvicorn.run(app)"
   ]
  },
  {
   "cell_type": "markdown",
   "metadata": {},
   "source": [
    "# Deploy 05 (Dokku)"
   ]
  },
  {
   "cell_type": "markdown",
   "metadata": {},
   "source": [
    "To deploy these new changes...\n",
    "\n",
    "1. Update environment:\n",
    "\n",
    "```\n",
    "pip install tensorflow\n",
    "```\n",
    "\n",
    "2. Freeze the dependencies:\n",
    "\n",
    "```\n",
    "pip freeze > requirements.txt\n",
    "```\n",
    "\n",
    "3. Retrain the model inside of the virtual environment:\n",
    "\n",
    "```\n",
    "python model.py\n",
    "```\n",
    "\n",
    "4. Make sure the app still works locally:\n",
    "\n",
    "```\n",
    "uvicorn app:app --port 5000 --reload\n",
    "```\n",
    "\n",
    "5. Push everything up to GitHub:\n",
    "\n",
    "```\n",
    "git add .\n",
    "git commit -m '🚀'\n",
    "git push dokku\n",
    "```\n",
    "\n",
    "6. Check logs on server (to make sure it all works)\n",
    "\n",
    "```\n",
    "dokku logs powerapp --tail\n",
    "```\n",
    "\n",
    "7. Test with the post function:"
   ]
  },
  {
   "cell_type": "code",
   "execution_count": 72,
   "metadata": {},
   "outputs": [],
   "source": [
    "data = {\n",
    "    \"date\": str(pd.Timestamp('now')),\n",
    "    \"temperature\": 20\n",
    "}"
   ]
  },
  {
   "cell_type": "markdown",
   "metadata": {},
   "source": [
    "```python\n",
    "post(\"http://142.93.153.207\", data)\n",
    "```"
   ]
  },
  {
   "cell_type": "markdown",
   "metadata": {},
   "source": [
    "And that's it!\n",
    "\n",
    "New changes that don't have any new dependencies will just need:\n",
    "\n",
    "```\n",
    "git add .\n",
    "git commit -m '🚀'\n",
    "git push dokku\n",
    "```"
   ]
  }
 ],
 "metadata": {
  "kernelspec": {
   "display_name": "Python 3",
   "language": "python",
   "name": "python3"
  },
  "language_info": {
   "codemirror_mode": {
    "name": "ipython",
    "version": 3
   },
   "file_extension": ".py",
   "mimetype": "text/x-python",
   "name": "python",
   "nbconvert_exporter": "python",
   "pygments_lexer": "ipython3",
   "version": "3.8.3"
  }
 },
 "nbformat": 4,
 "nbformat_minor": 4
}
